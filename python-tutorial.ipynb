{
 "cells": [
  {
   "cell_type": "code",
   "execution_count": 5,
   "metadata": {
    "collapsed": true
   },
   "outputs": [],
   "source": [
    "%matplotlib inline\n",
    "import math\n",
    "import numpy as np\n",
    "from numpy.random import *\n",
    "import pandas as pd\n",
    "import matplotlib.pyplot as plt"
   ]
  },
  {
   "cell_type": "code",
   "execution_count": 9,
   "metadata": {
    "collapsed": false
   },
   "outputs": [
    {
     "data": {
      "text/plain": [
       "3"
      ]
     },
     "execution_count": 9,
     "metadata": {},
     "output_type": "execute_result"
    }
   ],
   "source": [
    "1 + 2"
   ]
  },
  {
   "cell_type": "code",
   "execution_count": 10,
   "metadata": {
    "collapsed": false
   },
   "outputs": [
    {
     "data": {
      "text/plain": [
       "6"
      ]
     },
     "execution_count": 10,
     "metadata": {},
     "output_type": "execute_result"
    }
   ],
   "source": [
    "2 * 3"
   ]
  },
  {
   "cell_type": "code",
   "execution_count": 11,
   "metadata": {
    "collapsed": false
   },
   "outputs": [
    {
     "data": {
      "text/plain": [
       "0.5403023058681398"
      ]
     },
     "execution_count": 11,
     "metadata": {},
     "output_type": "execute_result"
    }
   ],
   "source": [
    "math.cos(1)"
   ]
  },
  {
   "cell_type": "code",
   "execution_count": 12,
   "metadata": {
    "collapsed": true
   },
   "outputs": [],
   "source": [
    "years_list = [2010, 2011, 2012, 2013, 2014, 2015]"
   ]
  },
  {
   "cell_type": "code",
   "execution_count": 13,
   "metadata": {
    "collapsed": false
   },
   "outputs": [
    {
     "name": "stdout",
     "output_type": "stream",
     "text": [
      "2010\n"
     ]
    }
   ],
   "source": [
    "print years_list[0]"
   ]
  },
  {
   "cell_type": "code",
   "execution_count": 14,
   "metadata": {
    "collapsed": true
   },
   "outputs": [],
   "source": [
    "partial_years_list1 = years_list[1:]"
   ]
  },
  {
   "cell_type": "code",
   "execution_count": 15,
   "metadata": {
    "collapsed": true
   },
   "outputs": [],
   "source": [
    "partial_years_list2 = years_list[3:5]"
   ]
  },
  {
   "cell_type": "code",
   "execution_count": 16,
   "metadata": {
    "collapsed": false
   },
   "outputs": [
    {
     "name": "stdout",
     "output_type": "stream",
     "text": [
      "[2011, 2012, 2013, 2014, 2015]\n",
      "[2013, 2014]\n"
     ]
    }
   ],
   "source": [
    "print partial_years_list1\n",
    "print partial_years_list2"
   ]
  },
  {
   "cell_type": "code",
   "execution_count": 17,
   "metadata": {
    "collapsed": false
   },
   "outputs": [
    {
     "data": {
      "text/plain": [
       "2010"
      ]
     },
     "execution_count": 17,
     "metadata": {},
     "output_type": "execute_result"
    }
   ],
   "source": [
    "years_list.pop(0)"
   ]
  },
  {
   "cell_type": "code",
   "execution_count": 18,
   "metadata": {
    "collapsed": true
   },
   "outputs": [],
   "source": [
    "years_list.append(2016)"
   ]
  },
  {
   "cell_type": "code",
   "execution_count": 19,
   "metadata": {
    "collapsed": false
   },
   "outputs": [
    {
     "name": "stdout",
     "output_type": "stream",
     "text": [
      "[2011, 2012, 2013, 2014, 2015, 2016]\n"
     ]
    }
   ],
   "source": [
    "print years_list"
   ]
  },
  {
   "cell_type": "code",
   "execution_count": 20,
   "metadata": {
    "collapsed": false
   },
   "outputs": [
    {
     "data": {
      "text/plain": [
       "[2011, 2012, 2013, 2014, 2015, 2016]"
      ]
     },
     "execution_count": 20,
     "metadata": {},
     "output_type": "execute_result"
    }
   ],
   "source": [
    "years_list"
   ]
  },
  {
   "cell_type": "code",
   "execution_count": 21,
   "metadata": {
    "collapsed": true
   },
   "outputs": [],
   "source": [
    "days_tuple = (\"Sun\", \"Mon\", \"Tue\", \"Wed\", \"Thu\", \"Fri\", \"Sat\")"
   ]
  },
  {
   "cell_type": "code",
   "execution_count": 22,
   "metadata": {
    "collapsed": false
   },
   "outputs": [
    {
     "data": {
      "text/plain": [
       "'Sun'"
      ]
     },
     "execution_count": 22,
     "metadata": {},
     "output_type": "execute_result"
    }
   ],
   "source": [
    "days_tuple[0]"
   ]
  },
  {
   "cell_type": "code",
   "execution_count": 23,
   "metadata": {
    "collapsed": true
   },
   "outputs": [],
   "source": [
    "partial_days_tuple = days_tuple[:3]"
   ]
  },
  {
   "cell_type": "code",
   "execution_count": 24,
   "metadata": {
    "collapsed": false
   },
   "outputs": [
    {
     "data": {
      "text/plain": [
       "('Sun', 'Mon', 'Tue')"
      ]
     },
     "execution_count": 24,
     "metadata": {},
     "output_type": "execute_result"
    }
   ],
   "source": [
    "partial_days_tuple"
   ]
  },
  {
   "cell_type": "code",
   "execution_count": 25,
   "metadata": {
    "collapsed": true
   },
   "outputs": [],
   "source": [
    "c_dict = {\"JP\": \"Japan\", \"CA\": \"Canada\", \"UK\": \"United Kingdom\"}"
   ]
  },
  {
   "cell_type": "code",
   "execution_count": 26,
   "metadata": {
    "collapsed": false
   },
   "outputs": [
    {
     "data": {
      "text/plain": [
       "'Japan'"
      ]
     },
     "execution_count": 26,
     "metadata": {},
     "output_type": "execute_result"
    }
   ],
   "source": [
    "c_dict[\"JP\"]"
   ]
  },
  {
   "cell_type": "code",
   "execution_count": 27,
   "metadata": {
    "collapsed": false
   },
   "outputs": [
    {
     "data": {
      "text/plain": [
       "['CA', 'JP', 'UK']"
      ]
     },
     "execution_count": 27,
     "metadata": {},
     "output_type": "execute_result"
    }
   ],
   "source": [
    "c_dict.keys()"
   ]
  },
  {
   "cell_type": "code",
   "execution_count": 28,
   "metadata": {
    "collapsed": false
   },
   "outputs": [
    {
     "data": {
      "text/plain": [
       "['Canada', 'Japan', 'United Kingdom']"
      ]
     },
     "execution_count": 28,
     "metadata": {},
     "output_type": "execute_result"
    }
   ],
   "source": [
    "c_dict.values()"
   ]
  },
  {
   "cell_type": "code",
   "execution_count": 29,
   "metadata": {
    "collapsed": true
   },
   "outputs": [],
   "source": [
    "fruits = set([\"apple\", \"orange\", \"banana\"])"
   ]
  },
  {
   "cell_type": "code",
   "execution_count": 30,
   "metadata": {
    "collapsed": true
   },
   "outputs": [],
   "source": [
    "fruits.add(\"grape\")"
   ]
  },
  {
   "cell_type": "code",
   "execution_count": 31,
   "metadata": {
    "collapsed": false
   },
   "outputs": [
    {
     "data": {
      "text/plain": [
       "{'apple', 'banana', 'grape', 'orange'}"
      ]
     },
     "execution_count": 31,
     "metadata": {},
     "output_type": "execute_result"
    }
   ],
   "source": [
    "fruits"
   ]
  },
  {
   "cell_type": "code",
   "execution_count": 33,
   "metadata": {
    "collapsed": false
   },
   "outputs": [
    {
     "data": {
      "text/plain": [
       "[1, 41, 81, 121, 161, 201, 241, 281]"
      ]
     },
     "execution_count": 33,
     "metadata": {},
     "output_type": "execute_result"
    }
   ],
   "source": [
    "a = []\n",
    "for i in range(300):\n",
    "    if i % 40 == 1:\n",
    "        a.append(i)\n",
    "a"
   ]
  },
  {
   "cell_type": "code",
   "execution_count": 34,
   "metadata": {
    "collapsed": false
   },
   "outputs": [
    {
     "name": "stdout",
     "output_type": "stream",
     "text": [
      "father != fruit\n",
      "apple = fruit\n"
     ]
    }
   ],
   "source": [
    "def find_fruit(item):\n",
    "    if item in fruits:\n",
    "        print \"{0} = fruit\".format(item)\n",
    "    else:\n",
    "        print \"{0} != fruit\".format(item)\n",
    "        \n",
    "find_fruit(\"father\")\n",
    "find_fruit(\"apple\")"
   ]
  },
  {
   "cell_type": "code",
   "execution_count": 35,
   "metadata": {
    "collapsed": true
   },
   "outputs": [],
   "source": [
    "num = 0"
   ]
  },
  {
   "cell_type": "code",
   "execution_count": 36,
   "metadata": {
    "collapsed": false
   },
   "outputs": [
    {
     "data": {
      "text/plain": [
       "([0, 1, 2, 3, 4, 5, 6, 7, 8, 9], [6, 7, 8, 9, 10, 11, 12, 13, 14, 15])"
      ]
     },
     "execution_count": 36,
     "metadata": {},
     "output_type": "execute_result"
    }
   ],
   "source": [
    "list1 = range(10)\n",
    "list2 = range(6,16)\n",
    "list1, list2"
   ]
  },
  {
   "cell_type": "code",
   "execution_count": 37,
   "metadata": {
    "collapsed": false
   },
   "outputs": [
    {
     "name": "stdout",
     "output_type": "stream",
     "text": [
      "type of list1 is <type 'list'> \n",
      "\n"
     ]
    }
   ],
   "source": [
    "print \"type of list1 is %s \\n\" % type(list1)"
   ]
  },
  {
   "cell_type": "code",
   "execution_count": 38,
   "metadata": {
    "collapsed": false
   },
   "outputs": [
    {
     "data": {
      "text/plain": [
       "(0, 1, 2, 3, 4, 5, 6, 7, 8, 9)"
      ]
     },
     "execution_count": 38,
     "metadata": {},
     "output_type": "execute_result"
    }
   ],
   "source": [
    "tuple1 = tuple(list1)\n",
    "tuple1"
   ]
  },
  {
   "cell_type": "code",
   "execution_count": 39,
   "metadata": {
    "collapsed": false
   },
   "outputs": [
    {
     "data": {
      "text/plain": [
       "[(0, 6),\n",
       " (1, 7),\n",
       " (2, 8),\n",
       " (3, 9),\n",
       " (4, 10),\n",
       " (5, 11),\n",
       " (6, 12),\n",
       " (7, 13),\n",
       " (8, 14),\n",
       " (9, 15)]"
      ]
     },
     "execution_count": 39,
     "metadata": {},
     "output_type": "execute_result"
    }
   ],
   "source": [
    "two_multi_list1 = zip(list1, list2)\n",
    "two_multi_list1"
   ]
  },
  {
   "cell_type": "code",
   "execution_count": 40,
   "metadata": {
    "collapsed": false
   },
   "outputs": [
    {
     "data": {
      "text/plain": [
       "{0: 6, 1: 7, 2: 8, 3: 9, 4: 10, 5: 11, 6: 12, 7: 13, 8: 14, 9: 15}"
      ]
     },
     "execution_count": 40,
     "metadata": {},
     "output_type": "execute_result"
    }
   ],
   "source": [
    "dict1 = dict(two_multi_list1)\n",
    "dict1"
   ]
  },
  {
   "cell_type": "code",
   "execution_count": 44,
   "metadata": {
    "collapsed": false
   },
   "outputs": [
    {
     "name": "stdout",
     "output_type": "stream",
     "text": [
      "dict[0] and dict[1] is 6 and 7\n"
     ]
    }
   ],
   "source": [
    "print \"dict[0] and dict[1] is %s and %s\" % (dict1[0], dict1[1])"
   ]
  },
  {
   "cell_type": "code",
   "execution_count": 45,
   "metadata": {
    "collapsed": false
   },
   "outputs": [
    {
     "data": {
      "text/plain": [
       "{0, 1, 2, 3, 4, 5, 6, 7, 8, 9}"
      ]
     },
     "execution_count": 45,
     "metadata": {},
     "output_type": "execute_result"
    }
   ],
   "source": [
    "set1 = set(list1)\n",
    "set1"
   ]
  },
  {
   "cell_type": "code",
   "execution_count": 47,
   "metadata": {
    "collapsed": false
   },
   "outputs": [
    {
     "name": "stdout",
     "output_type": "stream",
     "text": [
      "len = 10\n"
     ]
    }
   ],
   "source": [
    "print \"len = {0}\".format(len(list1))"
   ]
  },
  {
   "cell_type": "code",
   "execution_count": 48,
   "metadata": {
    "collapsed": true
   },
   "outputs": [],
   "source": [
    "dlist1 = map(lambda x: 2*x, list1)"
   ]
  },
  {
   "cell_type": "code",
   "execution_count": 49,
   "metadata": {
    "collapsed": false
   },
   "outputs": [
    {
     "data": {
      "text/plain": [
       "[0, 2, 4, 6, 8, 10, 12, 14, 16, 18]"
      ]
     },
     "execution_count": 49,
     "metadata": {},
     "output_type": "execute_result"
    }
   ],
   "source": [
    "dlist1"
   ]
  },
  {
   "cell_type": "code",
   "execution_count": 50,
   "metadata": {
    "collapsed": false
   },
   "outputs": [
    {
     "data": {
      "text/plain": [
       "[4, 5, 6, 7, 8, 9]"
      ]
     },
     "execution_count": 50,
     "metadata": {},
     "output_type": "execute_result"
    }
   ],
   "source": [
    "filtered_list1 = filter(lambda x: x > 3, list1)\n",
    "filtered_list1"
   ]
  },
  {
   "cell_type": "code",
   "execution_count": 51,
   "metadata": {
    "collapsed": false
   },
   "outputs": [
    {
     "data": {
      "text/plain": [
       "45"
      ]
     },
     "execution_count": 51,
     "metadata": {},
     "output_type": "execute_result"
    }
   ],
   "source": [
    "sum_list1 = reduce(lambda x, y: x + y, list1)\n",
    "sum_list1"
   ]
  },
  {
   "cell_type": "code",
   "execution_count": 54,
   "metadata": {
    "collapsed": false
   },
   "outputs": [
    {
     "name": "stdout",
     "output_type": "stream",
     "text": [
      "[ 0.24406565  0.79193426  0.50151204  0.61635008  0.63983626  0.66158063\n",
      "  0.09254053  0.23593816  0.30421827  0.47254453  0.93512443  0.26132756\n",
      "  0.37814734  0.8004224   0.94796527  0.47863407  0.91727066  0.81729625\n",
      "  0.19066626  0.91478049]\n",
      "<type 'numpy.ndarray'>\n"
     ]
    }
   ],
   "source": [
    "rans = rand(20)\n",
    "print rans\n",
    "print type(rans)"
   ]
  },
  {
   "cell_type": "code",
   "execution_count": 56,
   "metadata": {
    "collapsed": false
   },
   "outputs": [
    {
     "name": "stdout",
     "output_type": "stream",
     "text": [
      "[2006 2008 2008 2008 2000 2007 2003 2005 2012 2012 2001 2014 2007 2013 2000\n",
      " 2005 2009 2015 2006 2015]\n"
     ]
    }
   ],
   "source": [
    "print randint(2000, 2016, 20)"
   ]
  },
  {
   "cell_type": "code",
   "execution_count": 57,
   "metadata": {
    "collapsed": false
   },
   "outputs": [
    {
     "name": "stdout",
     "output_type": "stream",
     "text": [
      "[[9 2 5 7 0 2 0]\n",
      " [1 0 4 2 3 8 4]\n",
      " [1 9 4 8 7 0 4]\n",
      " [7 0 4 3 2 5 4]\n",
      " [9 0 9 5 4 9 5]\n",
      " [5 0 3 3 4 0 5]\n",
      " [1 2 9 5 1 2 2]]\n",
      "<type 'numpy.ndarray'>\n"
     ]
    }
   ],
   "source": [
    "mat77 = randint(0, 10, (7,7))\n",
    "print mat77\n",
    "print(type(mat77))"
   ]
  },
  {
   "cell_type": "code",
   "execution_count": 58,
   "metadata": {
    "collapsed": true
   },
   "outputs": [],
   "source": [
    "normd = normal(30, 10, 1000)"
   ]
  },
  {
   "cell_type": "code",
   "execution_count": 59,
   "metadata": {
    "collapsed": false
   },
   "outputs": [
    {
     "data": {
      "text/plain": [
       "(array([  3.,   3.,   5.,   5.,   3.,   6.,  11.,  10.,  19.,  27.,  23.,\n",
       "         21.,  34.,  36.,  53.,  46.,  48.,  46.,  60.,  61.,  55.,  58.,\n",
       "         46.,  43.,  45.,  47.,  24.,  27.,  28.,  24.,  27.,  11.,  12.,\n",
       "          6.,   6.,  11.,   3.,   3.,   1.,   0.,   0.,   2.,   0.,   0.,\n",
       "          0.,   0.,   0.,   0.,   0.,   1.]),\n",
       " array([  3.40853451,   4.75857197,   6.10860943,   7.45864688,\n",
       "          8.80868434,  10.1587218 ,  11.50875925,  12.85879671,\n",
       "         14.20883416,  15.55887162,  16.90890908,  18.25894653,\n",
       "         19.60898399,  20.95902145,  22.3090589 ,  23.65909636,\n",
       "         25.00913381,  26.35917127,  27.70920873,  29.05924618,\n",
       "         30.40928364,  31.7593211 ,  33.10935855,  34.45939601,\n",
       "         35.80943346,  37.15947092,  38.50950838,  39.85954583,\n",
       "         41.20958329,  42.55962075,  43.9096582 ,  45.25969566,\n",
       "         46.60973311,  47.95977057,  49.30980803,  50.65984548,\n",
       "         52.00988294,  53.3599204 ,  54.70995785,  56.05999531,\n",
       "         57.41003276,  58.76007022,  60.11010768,  61.46014513,\n",
       "         62.81018259,  64.16022005,  65.5102575 ,  66.86029496,\n",
       "         68.21033241,  69.56036987,  70.91040733]),\n",
       " <a list of 50 Patch objects>)"
      ]
     },
     "execution_count": 59,
     "metadata": {},
     "output_type": "execute_result"
    },
    {
     "data": {
      "image/png": "[encoded data removed]",
      "text/plain": [
       "<matplotlib.figure.Figure at 0x106ef1910>"
      ]
     },
     "metadata": {},
     "output_type": "display_data"
    }
   ],
   "source": [
    "plt.hist(normd, bins = 50, alpha = 0.6)"
   ]
  },
  {
   "cell_type": "code",
   "execution_count": 60,
   "metadata": {
    "collapsed": true
   },
   "outputs": [],
   "source": [
    "plt.show()"
   ]
  },
  {
   "cell_type": "code",
   "execution_count": 61,
   "metadata": {
    "collapsed": false
   },
   "outputs": [
    {
     "name": "stdout",
     "output_type": "stream",
     "text": [
      "mean=30.105, std=9.7225, mean_std=2.51034\n"
     ]
    }
   ],
   "source": [
    "mean = round(np.mean(normd, dtype=np.float32), 3)\n",
    "std = round(np.std(normd, ddof=1, dtype=np.float32), 5)\n",
    "mean_std = round(std/math.sqrt(15), 5)\n",
    "print \"mean={0}, std={1}, mean_std={2}\".format(mean, std, mean_std)"
   ]
  },
  {
   "cell_type": "code",
   "execution_count": 66,
   "metadata": {
    "collapsed": false
   },
   "outputs": [
    {
     "name": "stdout",
     "output_type": "stream",
     "text": [
      "    key1    key2  lval\n",
      "0  Japan  Shinji     1\n",
      "1  Japan   Asuka     2\n",
      "2     US     Bob     3\n"
     ]
    }
   ],
   "source": [
    "left = pd.DataFrame({'key1': ['Japan', 'Japan', 'US'], 'key2': ['Shinji', 'Asuka', 'Bob'], 'lval': [1, 2, 3]})\n",
    "print left"
   ]
  },
  {
   "cell_type": "code",
   "execution_count": 63,
   "metadata": {
    "collapsed": false
   },
   "outputs": [
    {
     "data": {
      "text/html": [
       "<div style=\"max-height:1000px;max-width:1500px;overflow:auto;\">\n",
       "<table border=\"1\" class=\"dataframe\">\n",
       "  <thead>\n",
       "    <tr style=\"text-align: right;\">\n",
       "      <th></th>\n",
       "      <th>key1</th>\n",
       "      <th>key2</th>\n",
       "      <th>lval</th>\n",
       "    </tr>\n",
       "  </thead>\n",
       "  <tbody>\n",
       "    <tr>\n",
       "      <th>0</th>\n",
       "      <td>Japan</td>\n",
       "      <td>Shinji</td>\n",
       "      <td>1</td>\n",
       "    </tr>\n",
       "    <tr>\n",
       "      <th>1</th>\n",
       "      <td>Japan</td>\n",
       "      <td>Asuka</td>\n",
       "      <td>2</td>\n",
       "    </tr>\n",
       "    <tr>\n",
       "      <th>2</th>\n",
       "      <td>US</td>\n",
       "      <td>Bob</td>\n",
       "      <td>3</td>\n",
       "    </tr>\n",
       "  </tbody>\n",
       "</table>\n",
       "</div>"
      ],
      "text/plain": [
       "    key1    key2  lval\n",
       "0  Japan  Shinji     1\n",
       "1  Japan   Asuka     2\n",
       "2     US     Bob     3"
      ]
     },
     "execution_count": 63,
     "metadata": {},
     "output_type": "execute_result"
    }
   ],
   "source": [
    "left"
   ]
  },
  {
   "cell_type": "code",
   "execution_count": 67,
   "metadata": {
    "collapsed": false
   },
   "outputs": [
    {
     "data": {
      "text/html": [
       "<div style=\"max-height:1000px;max-width:1500px;overflow:auto;\">\n",
       "<table border=\"1\" class=\"dataframe\">\n",
       "  <thead>\n",
       "    <tr style=\"text-align: right;\">\n",
       "      <th></th>\n",
       "      <th>key1</th>\n",
       "      <th>key2</th>\n",
       "      <th>rval</th>\n",
       "    </tr>\n",
       "  </thead>\n",
       "  <tbody>\n",
       "    <tr>\n",
       "      <th>0</th>\n",
       "      <td>Japan</td>\n",
       "      <td>Shinji</td>\n",
       "      <td>500</td>\n",
       "    </tr>\n",
       "    <tr>\n",
       "      <th>1</th>\n",
       "      <td>Japan</td>\n",
       "      <td>Asuka</td>\n",
       "      <td>600</td>\n",
       "    </tr>\n",
       "    <tr>\n",
       "      <th>2</th>\n",
       "      <td>US</td>\n",
       "      <td>Bob</td>\n",
       "      <td>700</td>\n",
       "    </tr>\n",
       "  </tbody>\n",
       "</table>\n",
       "</div>"
      ],
      "text/plain": [
       "    key1    key2  rval\n",
       "0  Japan  Shinji   500\n",
       "1  Japan   Asuka   600\n",
       "2     US     Bob   700"
      ]
     },
     "execution_count": 67,
     "metadata": {},
     "output_type": "execute_result"
    }
   ],
   "source": [
    "right = pd.DataFrame({'key1': ['Japan', 'Japan', 'US'], 'key2': ['Shinji', 'Asuka', 'Bob'], 'rval': [500, 600, 700]})\n",
    "right"
   ]
  },
  {
   "cell_type": "code",
   "execution_count": 68,
   "metadata": {
    "collapsed": false
   },
   "outputs": [
    {
     "data": {
      "text/html": [
       "<div style=\"max-height:1000px;max-width:1500px;overflow:auto;\">\n",
       "<table border=\"1\" class=\"dataframe\">\n",
       "  <thead>\n",
       "    <tr style=\"text-align: right;\">\n",
       "      <th></th>\n",
       "      <th>key1</th>\n",
       "      <th>key2</th>\n",
       "      <th>lval</th>\n",
       "      <th>rval</th>\n",
       "    </tr>\n",
       "  </thead>\n",
       "  <tbody>\n",
       "    <tr>\n",
       "      <th>0</th>\n",
       "      <td>Japan</td>\n",
       "      <td>Shinji</td>\n",
       "      <td>1</td>\n",
       "      <td>500</td>\n",
       "    </tr>\n",
       "    <tr>\n",
       "      <th>1</th>\n",
       "      <td>Japan</td>\n",
       "      <td>Asuka</td>\n",
       "      <td>2</td>\n",
       "      <td>600</td>\n",
       "    </tr>\n",
       "    <tr>\n",
       "      <th>2</th>\n",
       "      <td>US</td>\n",
       "      <td>Bob</td>\n",
       "      <td>3</td>\n",
       "      <td>700</td>\n",
       "    </tr>\n",
       "  </tbody>\n",
       "</table>\n",
       "</div>"
      ],
      "text/plain": [
       "    key1    key2  lval  rval\n",
       "0  Japan  Shinji     1   500\n",
       "1  Japan   Asuka     2   600\n",
       "2     US     Bob     3   700"
      ]
     },
     "execution_count": 68,
     "metadata": {},
     "output_type": "execute_result"
    }
   ],
   "source": [
    "outerjoin = pd.merge(left, right, how='outer')\n",
    "outerjoin"
   ]
  },
  {
   "cell_type": "code",
   "execution_count": 72,
   "metadata": {
    "collapsed": false
   },
   "outputs": [
    {
     "name": "stdout",
     "output_type": "stream",
     "text": [
      "2015-05-24   -0.327017\n",
      "2015-05-25    0.442720\n",
      "2015-05-26    1.610440\n",
      "2015-05-27    0.182577\n",
      "2015-05-28    0.007398\n",
      "2015-05-29    0.462186\n",
      "2015-05-30   -0.367355\n",
      "2015-05-31   -0.582794\n",
      "2015-06-01   -1.540228\n",
      "2015-06-02    1.937720\n",
      "2015-06-03    1.645226\n",
      "2015-06-04    0.315124\n",
      "2015-06-05   -1.194685\n",
      "2015-06-06    2.991006\n",
      "2015-06-07    0.068453\n",
      "2015-06-08    1.965210\n",
      "2015-06-09   -0.369940\n",
      "2015-06-10    0.449828\n",
      "2015-06-11   -0.786085\n",
      "2015-06-12    1.411500\n",
      "2015-06-13    0.000255\n",
      "2015-06-14   -1.609681\n",
      "2015-06-15    1.567135\n",
      "2015-06-16   -0.965627\n",
      "2015-06-17    0.110693\n",
      "2015-06-18   -0.563181\n",
      "2015-06-19   -0.447126\n",
      "2015-06-20    0.148412\n",
      "2015-06-21    1.625982\n",
      "2015-06-22    0.167013\n",
      "                ...   \n",
      "2016-05-28    0.088373\n",
      "2016-05-29    0.990325\n",
      "2016-05-30   -0.594303\n",
      "2016-05-31   -0.769437\n",
      "2016-06-01   -0.030108\n",
      "2016-06-02    1.072661\n",
      "2016-06-03    1.798429\n",
      "2016-06-04   -0.907429\n",
      "2016-06-05    0.740173\n",
      "2016-06-06   -0.019492\n",
      "2016-06-07    0.189127\n",
      "2016-06-08    0.032937\n",
      "2016-06-09    0.644940\n",
      "2016-06-10    1.001615\n",
      "2016-06-11    1.346079\n",
      "2016-06-12    1.365475\n",
      "2016-06-13    0.826270\n",
      "2016-06-14    0.109144\n",
      "2016-06-15    0.677389\n",
      "2016-06-16   -1.714701\n",
      "2016-06-17   -0.564151\n",
      "2016-06-18    0.402807\n",
      "2016-06-19    0.044405\n",
      "2016-06-20   -0.035031\n",
      "2016-06-21    0.687244\n",
      "2016-06-22    1.053918\n",
      "2016-06-23   -0.775360\n",
      "2016-06-24    1.402514\n",
      "2016-06-25   -0.123384\n",
      "2016-06-26    0.118870\n",
      "Freq: D, dtype: float64\n"
     ]
    }
   ],
   "source": [
    "timeseries = pd.Series(randn(400), index=pd.date_range('5/24/2015', periods = 400))\n",
    "print timeseries"
   ]
  },
  {
   "cell_type": "code",
   "execution_count": 73,
   "metadata": {
    "collapsed": false
   },
   "outputs": [
    {
     "data": {
      "text/plain": [
       "<matplotlib.text.Text at 0x107290d50>"
      ]
     },
     "execution_count": 73,
     "metadata": {},
     "output_type": "execute_result"
    },
    {
     "data": {
      "image/png": "[encoded data removed]",
      "text/plain": [
       "<matplotlib.figure.Figure at 0x107163690>"
      ]
     },
     "metadata": {},
     "output_type": "display_data"
    }
   ],
   "source": [
    "timeseries_cum = timeseries.cumsum()\n",
    "timeseries_cum.plot()\n",
    "plt.title('time series data')"
   ]
  },
  {
   "cell_type": "code",
   "execution_count": 74,
   "metadata": {
    "collapsed": false
   },
   "outputs": [
    {
     "name": "stdout",
     "output_type": "stream",
     "text": [
      "          a         b         c         d         e\n",
      "0  0.982586  0.320414  0.928346  0.496710  0.606196\n",
      "1  0.878139  0.012652  0.977136  0.526176  0.492810\n",
      "2  0.903159  0.994639  0.012993  0.666317  0.399297\n",
      "3  0.736386  0.634156  0.336137  0.869418  0.391757\n",
      "4  0.224691  0.149534  0.132594  0.773954  0.755145\n",
      "5  0.937247  0.284615  0.372495  0.559182  0.218937\n",
      "6  0.932481  0.508568  0.763576  0.256678  0.165155\n",
      "7  0.602476  0.554158  0.141822  0.035962  0.786950\n"
     ]
    },
    {
     "data": {
      "text/plain": [
       "<matplotlib.text.Text at 0x1075450d0>"
      ]
     },
     "execution_count": 74,
     "metadata": {},
     "output_type": "execute_result"
    },
    {
     "data": {
      "image/png": "[encoded data removed]",
      "text/plain": [
       "<matplotlib.figure.Figure at 0x1070c0350>"
      ]
     },
     "metadata": {},
     "output_type": "display_data"
    }
   ],
   "source": [
    "df1 = pd.DataFrame(rand(8, 5), columns=['a', 'b', 'c', 'd', 'e'])\n",
    "print df1\n",
    "df1.plot(kind='bar', alpha=0.6)\n",
    "plt.title(\"Bar data\")"
   ]
  },
  {
   "cell_type": "code",
   "execution_count": 75,
   "metadata": {
    "collapsed": false
   },
   "outputs": [
    {
     "data": {
      "text/plain": [
       "<matplotlib.text.Text at 0x107716650>"
      ]
     },
     "execution_count": 75,
     "metadata": {},
     "output_type": "execute_result"
    },
    {
     "data": {
      "image/png": "[encoded data removed]",
      "text/plain": [
       "<matplotlib.figure.Figure at 0x107887810>"
      ]
     },
     "metadata": {},
     "output_type": "display_data"
    }
   ],
   "source": [
    "df = pd.DataFrame(rand(50, 6), columns=['a', 'b', 'c', 'd', 'e', 'f'])\n",
    "ax1 = df.plot(kind='scatter', x='a', y='b',color='Blue', label='Group 1')\n",
    "ax2 = df.plot(kind='scatter', x='c', y='d', color='Yellow', label='Group 2',ax=ax1)\n",
    "df.plot(kind='scatter', x='e', y='f', color='Red', label='Group 3', ax=ax2)\n",
    "plt.title(\"Scatter plot data\")\n",
    "plt.xlabel('X axis')\n",
    "plt.ylabel('Y axis')"
   ]
  },
  {
   "cell_type": "code",
   "execution_count": 76,
   "metadata": {
    "collapsed": true
   },
   "outputs": [],
   "source": [
    "df1.to_csv('bar_data.csv', index=0)\n",
    "df1.to_csv('bar_data.tsv', sep='\\t', index=0)"
   ]
  },
  {
   "cell_type": "code",
   "execution_count": null,
   "metadata": {
    "collapsed": true
   },
   "outputs": [],
   "source": []
  }
 ],
 "metadata": {
  "kernelspec": {
   "display_name": "Python 2",
   "language": "python",
   "name": "python2"
  },
  "language_info": {
   "codemirror_mode": {
    "name": "ipython",
    "version": 2
   },
   "file_extension": ".py",
   "mimetype": "text/x-python",
   "name": "python",
   "nbconvert_exporter": "python",
   "pygments_lexer": "ipython2",
   "version": "2.7.9"
  }
 },
 "nbformat": 4,
 "nbformat_minor": 0
}
