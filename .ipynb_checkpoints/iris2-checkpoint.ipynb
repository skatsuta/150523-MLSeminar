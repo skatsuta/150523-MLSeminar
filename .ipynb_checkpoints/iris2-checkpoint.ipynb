{
 "cells": [
  {
   "cell_type": "code",
   "execution_count": 1,
   "metadata": {
    "collapsed": true
   },
   "outputs": [],
   "source": [
    "from sklearn import datasets"
   ]
  },
  {
   "cell_type": "code",
   "execution_count": 2,
   "metadata": {
    "collapsed": true
   },
   "outputs": [],
   "source": [
    "iris = datasets.load_iris()"
   ]
  },
  {
   "cell_type": "code",
   "execution_count": 3,
   "metadata": {
    "collapsed": true
   },
   "outputs": [],
   "source": [
    "X = iris.data"
   ]
  },
  {
   "cell_type": "code",
   "execution_count": 4,
   "metadata": {
    "collapsed": true
   },
   "outputs": [],
   "source": [
    "Y = iris.target"
   ]
  },
  {
   "cell_type": "code",
   "execution_count": 5,
   "metadata": {
    "collapsed": false
   },
   "outputs": [
    {
     "name": "stdout",
     "output_type": "stream",
     "text": [
      "X = \n",
      "[ 5.1  3.5  1.4  0.2]\n",
      "[ 4.9  3.   1.4  0.2]\n",
      "[ 4.7  3.2  1.3  0.2]\n",
      "[ 4.6  3.1  1.5  0.2]\n",
      "[ 5.   3.6  1.4  0.2]\n"
     ]
    }
   ],
   "source": [
    "print \"X = \"\n",
    "for i in range(5):\n",
    "    print X[i,:]"
   ]
  },
  {
   "cell_type": "code",
   "execution_count": 6,
   "metadata": {
    "collapsed": false
   },
   "outputs": [
    {
     "name": "stdout",
     "output_type": "stream",
     "text": [
      "sepal length (cm), sepal width (cm), petal length (cm), petal width (cm), target \n",
      "5.1, 3.5, 1.4, 0.2, setosa\n",
      "4.9, 3.0, 1.4, 0.2, setosa\n",
      "4.7, 3.2, 1.3, 0.2, setosa\n",
      "4.6, 3.1, 1.5, 0.2, setosa\n",
      "5.0, 3.6, 1.4, 0.2, setosa\n",
      "5.4, 3.9, 1.7, 0.4, setosa\n",
      "4.6, 3.4, 1.4, 0.3, setosa\n",
      "5.0, 3.4, 1.5, 0.2, setosa\n",
      "4.4, 2.9, 1.4, 0.2, setosa\n",
      "4.9, 3.1, 1.5, 0.1, setosa\n",
      "5.4, 3.7, 1.5, 0.2, setosa\n",
      "4.8, 3.4, 1.6, 0.2, setosa\n",
      "4.8, 3.0, 1.4, 0.1, setosa\n",
      "4.3, 3.0, 1.1, 0.1, setosa\n",
      "5.8, 4.0, 1.2, 0.2, setosa\n",
      "5.7, 4.4, 1.5, 0.4, setosa\n",
      "5.4, 3.9, 1.3, 0.4, setosa\n",
      "5.1, 3.5, 1.4, 0.3, setosa\n",
      "5.7, 3.8, 1.7, 0.3, setosa\n",
      "5.1, 3.8, 1.5, 0.3, setosa\n",
      "5.4, 3.4, 1.7, 0.2, setosa\n",
      "5.1, 3.7, 1.5, 0.4, setosa\n",
      "4.6, 3.6, 1.0, 0.2, setosa\n",
      "5.1, 3.3, 1.7, 0.5, setosa\n",
      "4.8, 3.4, 1.9, 0.2, setosa\n",
      "5.0, 3.0, 1.6, 0.2, setosa\n",
      "5.0, 3.4, 1.6, 0.4, setosa\n",
      "5.2, 3.5, 1.5, 0.2, setosa\n",
      "5.2, 3.4, 1.4, 0.2, setosa\n",
      "4.7, 3.2, 1.6, 0.2, setosa\n",
      "4.8, 3.1, 1.6, 0.2, setosa\n",
      "5.4, 3.4, 1.5, 0.4, setosa\n",
      "5.2, 4.1, 1.5, 0.1, setosa\n",
      "5.5, 4.2, 1.4, 0.2, setosa\n",
      "4.9, 3.1, 1.5, 0.1, setosa\n",
      "5.0, 3.2, 1.2, 0.2, setosa\n",
      "5.5, 3.5, 1.3, 0.2, setosa\n",
      "4.9, 3.1, 1.5, 0.1, setosa\n",
      "4.4, 3.0, 1.3, 0.2, setosa\n",
      "5.1, 3.4, 1.5, 0.2, setosa\n",
      "5.0, 3.5, 1.3, 0.3, setosa\n",
      "4.5, 2.3, 1.3, 0.3, setosa\n",
      "4.4, 3.2, 1.3, 0.2, setosa\n",
      "5.0, 3.5, 1.6, 0.6, setosa\n",
      "5.1, 3.8, 1.9, 0.4, setosa\n",
      "4.8, 3.0, 1.4, 0.3, setosa\n",
      "5.1, 3.8, 1.6, 0.2, setosa\n",
      "4.6, 3.2, 1.4, 0.2, setosa\n",
      "5.3, 3.7, 1.5, 0.2, setosa\n",
      "5.0, 3.3, 1.4, 0.2, setosa\n",
      "7.0, 3.2, 4.7, 1.4, versicolor\n",
      "6.4, 3.2, 4.5, 1.5, versicolor\n",
      "6.9, 3.1, 4.9, 1.5, versicolor\n",
      "5.5, 2.3, 4.0, 1.3, versicolor\n",
      "6.5, 2.8, 4.6, 1.5, versicolor\n",
      "5.7, 2.8, 4.5, 1.3, versicolor\n",
      "6.3, 3.3, 4.7, 1.6, versicolor\n",
      "4.9, 2.4, 3.3, 1.0, versicolor\n",
      "6.6, 2.9, 4.6, 1.3, versicolor\n",
      "5.2, 2.7, 3.9, 1.4, versicolor\n",
      "5.0, 2.0, 3.5, 1.0, versicolor\n",
      "5.9, 3.0, 4.2, 1.5, versicolor\n",
      "6.0, 2.2, 4.0, 1.0, versicolor\n",
      "6.1, 2.9, 4.7, 1.4, versicolor\n",
      "5.6, 2.9, 3.6, 1.3, versicolor\n",
      "6.7, 3.1, 4.4, 1.4, versicolor\n",
      "5.6, 3.0, 4.5, 1.5, versicolor\n",
      "5.8, 2.7, 4.1, 1.0, versicolor\n",
      "6.2, 2.2, 4.5, 1.5, versicolor\n",
      "5.6, 2.5, 3.9, 1.1, versicolor\n",
      "5.9, 3.2, 4.8, 1.8, versicolor\n",
      "6.1, 2.8, 4.0, 1.3, versicolor\n",
      "6.3, 2.5, 4.9, 1.5, versicolor\n",
      "6.1, 2.8, 4.7, 1.2, versicolor\n",
      "6.4, 2.9, 4.3, 1.3, versicolor\n",
      "6.6, 3.0, 4.4, 1.4, versicolor\n",
      "6.8, 2.8, 4.8, 1.4, versicolor\n",
      "6.7, 3.0, 5.0, 1.7, versicolor\n",
      "6.0, 2.9, 4.5, 1.5, versicolor\n",
      "5.7, 2.6, 3.5, 1.0, versicolor\n",
      "5.5, 2.4, 3.8, 1.1, versicolor\n",
      "5.5, 2.4, 3.7, 1.0, versicolor\n",
      "5.8, 2.7, 3.9, 1.2, versicolor\n",
      "6.0, 2.7, 5.1, 1.6, versicolor\n",
      "5.4, 3.0, 4.5, 1.5, versicolor\n",
      "6.0, 3.4, 4.5, 1.6, versicolor\n",
      "6.7, 3.1, 4.7, 1.5, versicolor\n",
      "6.3, 2.3, 4.4, 1.3, versicolor\n",
      "5.6, 3.0, 4.1, 1.3, versicolor\n",
      "5.5, 2.5, 4.0, 1.3, versicolor\n",
      "5.5, 2.6, 4.4, 1.2, versicolor\n",
      "6.1, 3.0, 4.6, 1.4, versicolor\n",
      "5.8, 2.6, 4.0, 1.2, versicolor\n",
      "5.0, 2.3, 3.3, 1.0, versicolor\n",
      "5.6, 2.7, 4.2, 1.3, versicolor\n",
      "5.7, 3.0, 4.2, 1.2, versicolor\n",
      "5.7, 2.9, 4.2, 1.3, versicolor\n",
      "6.2, 2.9, 4.3, 1.3, versicolor\n",
      "5.1, 2.5, 3.0, 1.1, versicolor\n",
      "5.7, 2.8, 4.1, 1.3, versicolor\n",
      "6.3, 3.3, 6.0, 2.5, virginica\n",
      "5.8, 2.7, 5.1, 1.9, virginica\n",
      "7.1, 3.0, 5.9, 2.1, virginica\n",
      "6.3, 2.9, 5.6, 1.8, virginica\n",
      "6.5, 3.0, 5.8, 2.2, virginica\n",
      "7.6, 3.0, 6.6, 2.1, virginica\n",
      "4.9, 2.5, 4.5, 1.7, virginica\n",
      "7.3, 2.9, 6.3, 1.8, virginica\n",
      "6.7, 2.5, 5.8, 1.8, virginica\n",
      "7.2, 3.6, 6.1, 2.5, virginica\n",
      "6.5, 3.2, 5.1, 2.0, virginica\n",
      "6.4, 2.7, 5.3, 1.9, virginica\n",
      "6.8, 3.0, 5.5, 2.1, virginica\n",
      "5.7, 2.5, 5.0, 2.0, virginica\n",
      "5.8, 2.8, 5.1, 2.4, virginica\n",
      "6.4, 3.2, 5.3, 2.3, virginica\n",
      "6.5, 3.0, 5.5, 1.8, virginica\n",
      "7.7, 3.8, 6.7, 2.2, virginica\n",
      "7.7, 2.6, 6.9, 2.3, virginica\n",
      "6.0, 2.2, 5.0, 1.5, virginica\n",
      "6.9, 3.2, 5.7, 2.3, virginica\n",
      "5.6, 2.8, 4.9, 2.0, virginica\n",
      "7.7, 2.8, 6.7, 2.0, virginica\n",
      "6.3, 2.7, 4.9, 1.8, virginica\n",
      "6.7, 3.3, 5.7, 2.1, virginica\n",
      "7.2, 3.2, 6.0, 1.8, virginica\n",
      "6.2, 2.8, 4.8, 1.8, virginica\n",
      "6.1, 3.0, 4.9, 1.8, virginica\n",
      "6.4, 2.8, 5.6, 2.1, virginica\n",
      "7.2, 3.0, 5.8, 1.6, virginica\n",
      "7.4, 2.8, 6.1, 1.9, virginica\n",
      "7.9, 3.8, 6.4, 2.0, virginica\n",
      "6.4, 2.8, 5.6, 2.2, virginica\n",
      "6.3, 2.8, 5.1, 1.5, virginica\n",
      "6.1, 2.6, 5.6, 1.4, virginica\n",
      "7.7, 3.0, 6.1, 2.3, virginica\n",
      "6.3, 3.4, 5.6, 2.4, virginica\n",
      "6.4, 3.1, 5.5, 1.8, virginica\n",
      "6.0, 3.0, 4.8, 1.8, virginica\n",
      "6.9, 3.1, 5.4, 2.1, virginica\n",
      "6.7, 3.1, 5.6, 2.4, virginica\n",
      "6.9, 3.1, 5.1, 2.3, virginica\n",
      "5.8, 2.7, 5.1, 1.9, virginica\n",
      "6.8, 3.2, 5.9, 2.3, virginica\n",
      "6.7, 3.3, 5.7, 2.5, virginica\n",
      "6.7, 3.0, 5.2, 2.3, virginica\n",
      "6.3, 2.5, 5.0, 1.9, virginica\n",
      "6.5, 3.0, 5.2, 2.0, virginica\n",
      "6.2, 3.4, 5.4, 2.3, virginica\n",
      "5.9, 3.0, 5.1, 1.8, virginica\n"
     ]
    }
   ],
   "source": [
    "import sys\n",
    "target_names = iris.target_names\n",
    "feature_names = iris.feature_names\n",
    "ncol = len(X[0])\n",
    "nrow = len(X)\n",
    "\n",
    "for i in range(ncol):\n",
    "    sys.stdout.write(feature_names[i])\n",
    "    sys.stdout.write(\", \")\n",
    "sys.stdout.write(\"target \\n\")\n",
    "\n",
    "for i in range(nrow):\n",
    "    for j in range(ncol+1):\n",
    "        if(j<ncol):\n",
    "            sys.stdout.write(str(X[i,j]))\n",
    "            sys.stdout.write(\", \")\n",
    "        else:\n",
    "            print(target_names[Y[i]])"
   ]
  },
  {
   "cell_type": "code",
   "execution_count": 11,
   "metadata": {
    "collapsed": false
   },
   "outputs": [
    {
     "data": {
      "image/png": "[encoded data removed]",
      "text/plain": [
       "<matplotlib.figure.Figure at 0x107a1a610>"
      ]
     },
     "metadata": {},
     "output_type": "display_data"
    }
   ],
   "source": [
    "%matplotlib inline\n",
    "import matplotlib.pyplot as plt\n",
    "from matplotlib.colors import ListedColormap\n",
    "\"\"\"\n",
    "col_id\n",
    "0: sepal length (cm)\n",
    "1: sepal width (cm)\n",
    "2: petal length (cm)\n",
    "3: petal width (cm)\n",
    "\"\"\"\n",
    "\n",
    "x_col_id = 1\n",
    "y_col_id = 3\n",
    "x_min, x_max = X[:, x_col_id].min() - .5, X[:,  x_col_id].max() + .5\n",
    "y_min, y_max = X[:, y_col_id].min() - .5, X[:,  y_col_id].max() + .5\n",
    "\n",
    "plt.figure(2, figsize=(8, 6))\n",
    "plt.clf()\n",
    "\n",
    "\n",
    "\n",
    "# データ点をプロット\n",
    "#色はsetosa:赤、versicolor:青、virginica:緑\n",
    "cmap_bold = ListedColormap(['#FF0000', '#00FF00', '#0000FF'])\n",
    "plt.scatter(X[:, x_col_id], X[:, y_col_id], c=Y, cmap=cmap_bold)\n",
    "plt.xlabel(feature_names[x_col_id])\n",
    "plt.ylabel(feature_names[y_col_id])\n",
    "\n",
    "plt.xlim(x_min, x_max)\n",
    "plt.ylim(y_min, y_max)\n",
    "plt.show()"
   ]
  },
  {
   "cell_type": "code",
   "execution_count": 12,
   "metadata": {
    "collapsed": false
   },
   "outputs": [
    {
     "data": {
      "text/plain": [
       "LogisticRegression(C=1.0, class_weight=None, dual=False, fit_intercept=True,\n",
       "          intercept_scaling=1, max_iter=100, multi_class='ovr',\n",
       "          penalty='l2', random_state=None, solver='liblinear', tol=0.0001,\n",
       "          verbose=0)"
      ]
     },
     "execution_count": 12,
     "metadata": {},
     "output_type": "execute_result"
    }
   ],
   "source": [
    "from sklearn.linear_model import LogisticRegression\n",
    "logit = LogisticRegression()\n",
    "logit.fit(X, Y)"
   ]
  },
  {
   "cell_type": "code",
   "execution_count": 14,
   "metadata": {
    "collapsed": false
   },
   "outputs": [
    {
     "data": {
      "text/plain": [
       "array([[  8.79681649e-01,   1.20307538e-01,   1.08131372e-05]])"
      ]
     },
     "execution_count": 14,
     "metadata": {},
     "output_type": "execute_result"
    }
   ],
   "source": [
    "logit.predict_proba([5.1, 3.5, 1.4, 0.2])"
   ]
  },
  {
   "cell_type": "code",
   "execution_count": 15,
   "metadata": {
    "collapsed": false
   },
   "outputs": [
    {
     "data": {
      "text/plain": [
       "array([[  1.99566458e-04,   3.44639307e-01,   6.55161126e-01]])"
      ]
     },
     "execution_count": 15,
     "metadata": {},
     "output_type": "execute_result"
    }
   ],
   "source": [
    "logit.predict_proba([5.0, 2.0, 5.0, 2.0])"
   ]
  },
  {
   "cell_type": "code",
   "execution_count": 18,
   "metadata": {
    "collapsed": false
   },
   "outputs": [
    {
     "data": {
      "text/plain": [
       "array([[ 0.73022772,  0.01002073,  0.25975155]])"
      ]
     },
     "execution_count": 18,
     "metadata": {},
     "output_type": "execute_result"
    }
   ],
   "source": [
    "logit.predict_proba([1.0, 2.0, 0.0, 2.0])"
   ]
  },
  {
   "cell_type": "code",
   "execution_count": 19,
   "metadata": {
    "collapsed": false
   },
   "outputs": [
    {
     "name": "stdout",
     "output_type": "stream",
     "text": [
      "[[ 1.  0.  0.]]\n"
     ]
    }
   ],
   "source": [
    "from sklearn.neighbors import KNeighborsClassifier\n",
    "k = 5\n",
    "knn = KNeighborsClassifier(k)\n",
    "knn.fit(X, Y)\n",
    "print knn.predict_proba([5.1, 3.5, 1.4, 0.2])"
   ]
  },
  {
   "cell_type": "code",
   "execution_count": 23,
   "metadata": {
    "collapsed": false
   },
   "outputs": [
    {
     "name": "stdout",
     "output_type": "stream",
     "text": [
      "[[ 0.  0.  1.]]\n"
     ]
    }
   ],
   "source": [
    "print knn.predict_proba([5.0, 2.0, 5.0, 2.0])"
   ]
  },
  {
   "cell_type": "code",
   "execution_count": 24,
   "metadata": {
    "collapsed": false
   },
   "outputs": [
    {
     "name": "stdout",
     "output_type": "stream",
     "text": [
      "0.953333333333\n"
     ]
    }
   ],
   "source": [
    "from sklearn.linear_model import LogisticRegression\n",
    "from sklearn import cross_validation\n",
    "cv = 10\n",
    "logit = LogisticRegression()\n",
    "scores = cross_validation.cross_val_score(logit, X, Y, cv = cv)\n",
    "print sum(scores)/cv"
   ]
  },
  {
   "cell_type": "code",
   "execution_count": 26,
   "metadata": {
    "collapsed": false
   },
   "outputs": [
    {
     "name": "stdout",
     "output_type": "stream",
     "text": [
      "0.966666666667\n"
     ]
    }
   ],
   "source": [
    "from sklearn.neighbors import KNeighborsClassifier\n",
    "k = 5\n",
    "knn = KNeighborsClassifier(k)\n",
    "cv = 10\n",
    "scores = cross_validation.cross_val_score(knn, X, Y, cv = cv)\n",
    "print sum(scores)/cv"
   ]
  },
  {
   "cell_type": "code",
   "execution_count": 59,
   "metadata": {
    "collapsed": false
   },
   "outputs": [
    {
     "name": "stdout",
     "output_type": "stream",
     "text": [
      "score = 0.96\n"
     ]
    },
    {
     "data": {
      "image/png": "[encoded data removed]",
      "text/plain": [
       "<matplotlib.figure.Figure at 0x108099890>"
      ]
     },
     "metadata": {},
     "output_type": "display_data"
    }
   ],
   "source": [
    "import numpy as np\n",
    "k = 10\n",
    "x_col_id = 2\n",
    "y_col_id = 3\n",
    "\n",
    "\"\"\"\n",
    "col_id\n",
    "0: sepal length (cm)\n",
    "1: sepal width (cm)\n",
    "2: petal length (cm)\n",
    "3: petal width (cm)\n",
    "\"\"\"\n",
    "\n",
    "#Cross Validationによる性能評価\n",
    "sub_X = np.array([[i[x_col_id],i[y_col_id]] for i in X])\n",
    "knn = KNeighborsClassifier(k)\n",
    "scores = cross_validation.cross_val_score(knn,sub_X,Y,cv=cv)\n",
    "print(\"score = \" + str(sum(scores)/cv))\n",
    "\n",
    "#ここから下はグラフ用\n",
    "clf = KNeighborsClassifier(k)\n",
    "clf.fit(sub_X, Y)\n",
    "cmap_light = ListedColormap(['#FFAAAA', '#AAFFAA', '#AAAAFF'])\n",
    "cmap_bold = ListedColormap(['#FF0000', '#00FF00', '#0000FF'])\n",
    "h = .02  \n",
    "x_min, x_max = sub_X[:, 0].min() - 1, sub_X[:, 0].max() + 1\n",
    "y_min, y_max = sub_X[:, 1].min() - 1, sub_X[:, 1].max() + 1\n",
    "xx, yy = np.meshgrid(np.arange(x_min, x_max, h),\n",
    "                     np.arange(y_min, y_max, h))\n",
    "Z = clf.predict(np.c_[xx.ravel(), yy.ravel()])\n",
    "Z = Z.reshape(xx.shape)\n",
    "plt.figure()\n",
    "plt.pcolormesh(xx, yy, Z, cmap=cmap_light)\n",
    "\n",
    "plt.scatter(sub_X[:, 0], sub_X[:, 1], c=Y, cmap=cmap_bold)\n",
    "plt.xlim(xx.min(), xx.max())\n",
    "plt.ylim(yy.min(), yy.max())\n",
    "plt.title(\"3-Class classification (k = %i)\"\n",
    "          % (k))\n",
    "plt.xlabel(feature_names[x_col_id])\n",
    "plt.ylabel(feature_names[y_col_id])\n",
    "\n",
    "plt.show()"
   ]
  },
  {
   "cell_type": "code",
   "execution_count": null,
   "metadata": {
    "collapsed": true
   },
   "outputs": [],
   "source": []
  }
 ],
 "metadata": {
  "kernelspec": {
   "display_name": "Python 2",
   "language": "python",
   "name": "python2"
  },
  "language_info": {
   "codemirror_mode": {
    "name": "ipython",
    "version": 2
   },
   "file_extension": ".py",
   "mimetype": "text/x-python",
   "name": "python",
   "nbconvert_exporter": "python",
   "pygments_lexer": "ipython2",
   "version": "2.7.9"
  }
 },
 "nbformat": 4,
 "nbformat_minor": 0
}
